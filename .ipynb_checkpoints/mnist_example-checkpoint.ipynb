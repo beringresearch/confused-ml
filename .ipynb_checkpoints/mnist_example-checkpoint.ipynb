{
 "cells": [
  {
   "cell_type": "code",
   "execution_count": 1,
   "metadata": {},
   "outputs": [
    {
     "name": "stderr",
     "output_type": "stream",
     "text": [
      "Using TensorFlow backend.\n"
     ]
    }
   ],
   "source": [
    "import pandas as pd\n",
    "import altair as alt\n",
    "from altair import Bin\n",
    "\n",
    "from sklearn import datasets\n",
    "from sklearn.ensemble import RandomForestClassifier\n",
    "from sklearn.model_selection import train_test_split\n",
    "\n",
    "import keras\n",
    "from keras.datasets import mnist\n",
    "from keras.models import Sequential\n",
    "from keras.layers import Dense, Dropout, Flatten\n",
    "from keras.layers import Conv2D, MaxPooling2D\n",
    "from keras.optimizers import RMSprop\n",
    "from keras import backend as K\n",
    "\n",
    "from confused import squares"
   ]
  },
  {
   "cell_type": "code",
   "execution_count": 2,
   "metadata": {},
   "outputs": [
    {
     "name": "stdout",
     "output_type": "stream",
     "text": [
      "60000 train samples\n",
      "10000 test samples\n",
      "_________________________________________________________________\n",
      "Layer (type)                 Output Shape              Param #   \n",
      "=================================================================\n",
      "dense_1 (Dense)              (None, 512)               401920    \n",
      "_________________________________________________________________\n",
      "dropout_1 (Dropout)          (None, 512)               0         \n",
      "_________________________________________________________________\n",
      "dense_2 (Dense)              (None, 512)               262656    \n",
      "_________________________________________________________________\n",
      "dropout_2 (Dropout)          (None, 512)               0         \n",
      "_________________________________________________________________\n",
      "dense_3 (Dense)              (None, 10)                5130      \n",
      "=================================================================\n",
      "Total params: 669,706\n",
      "Trainable params: 669,706\n",
      "Non-trainable params: 0\n",
      "_________________________________________________________________\n",
      "Train on 60000 samples, validate on 10000 samples\n",
      "Epoch 1/1\n",
      "60000/60000 [==============================] - 8s 139us/step - loss: 0.2453 - acc: 0.9243 - val_loss: 0.1102 - val_acc: 0.9633\n"
     ]
    }
   ],
   "source": [
    "batch_size = 128\n",
    "num_classes = 10\n",
    "epochs = 1\n",
    "\n",
    "# the data, split between train and test sets\n",
    "(x_train, y_train), (x_test, y_test) = mnist.load_data()\n",
    "\n",
    "x_train = x_train.reshape(60000, 784)\n",
    "x_test = x_test.reshape(10000, 784)\n",
    "x_train = x_train.astype('float32')\n",
    "x_test = x_test.astype('float32')\n",
    "x_train /= 255\n",
    "x_test /= 255\n",
    "print(x_train.shape[0], 'train samples')\n",
    "print(x_test.shape[0], 'test samples')\n",
    "\n",
    "# convert class vectors to binary class matrices\n",
    "y_train = keras.utils.to_categorical(y_train, num_classes)\n",
    "y_test = keras.utils.to_categorical(y_test, num_classes)\n",
    "\n",
    "model = Sequential()\n",
    "model.add(Dense(512, activation='relu', input_shape=(784,)))\n",
    "model.add(Dropout(0.2))\n",
    "model.add(Dense(512, activation='relu'))\n",
    "model.add(Dropout(0.2))\n",
    "model.add(Dense(num_classes, activation='softmax'))\n",
    "\n",
    "model.summary()\n",
    "\n",
    "model.compile(loss='categorical_crossentropy',\n",
    "              optimizer=RMSprop(),\n",
    "              metrics=['accuracy'])\n",
    "\n",
    "history = model.fit(x_train, y_train,\n",
    "                    batch_size=batch_size,\n",
    "                    epochs=epochs,\n",
    "                    verbose=1,\n",
    "                    validation_data=(x_test, y_test))"
   ]
  },
  {
   "cell_type": "code",
   "execution_count": 3,
   "metadata": {},
   "outputs": [],
   "source": [
    "y_prob = model.predict(x_test)\n",
    "y_classes = y_prob.argmax(axis=-1)\n",
    "actual = y_test.argmax(axis=-1)"
   ]
  },
  {
   "cell_type": "code",
   "execution_count": 4,
   "metadata": {},
   "outputs": [
    {
     "data": {
      "application/vnd.vegalite.v2+json": {
       "$schema": "https://vega.github.io/schema/vega-lite/v2.6.0.json",
       "config": {
        "axis": {
         "grid": false
        },
        "view": {
         "height": 300,
         "strokeOpacity": 0,
         "width": 400
        }
       },
       "data": {
        "name": "data-c63b6646512cb72bc1a31d13e357d2ca"
       },
       "datasets": {
        "data-c63b6646512cb72bc1a31d13e357d2ca": [
         {
          "actual": 0,
          "bins": "(-0.001, 0.1]",
          "count": 1,
          "predicted": 2,
          "variable": "0"
         },
         {
          "actual": 0,
          "bins": "(-0.001, 0.1]",
          "count": 1,
          "predicted": 3,
          "variable": "0"
         },
         {
          "actual": 0,
          "bins": "(-0.001, 0.1]",
          "count": 2,
          "predicted": 6,
          "variable": "0"
         },
         {
          "actual": 0,
          "bins": "(-0.001, 0.1]",
          "count": 1,
          "predicted": 7,
          "variable": "0"
         },
         {
          "actual": 0,
          "bins": "(-0.001, 0.1]",
          "count": 2,
          "predicted": 8,
          "variable": "0"
         },
         {
          "actual": 1,
          "bins": "(-0.001, 0.1]",
          "count": 2,
          "predicted": 2,
          "variable": "1"
         },
         {
          "actual": 1,
          "bins": "(-0.001, 0.1]",
          "count": 1,
          "predicted": 3,
          "variable": "1"
         },
         {
          "actual": 1,
          "bins": "(-0.001, 0.1]",
          "count": 1,
          "predicted": 6,
          "variable": "1"
         },
         {
          "actual": 1,
          "bins": "(-0.001, 0.1]",
          "count": 5,
          "predicted": 8,
          "variable": "1"
         },
         {
          "actual": 2,
          "bins": "(-0.001, 0.1]",
          "count": 1,
          "predicted": 3,
          "variable": "2"
         },
         {
          "actual": 2,
          "bins": "(-0.001, 0.1]",
          "count": 1,
          "predicted": 6,
          "variable": "2"
         },
         {
          "actual": 2,
          "bins": "(-0.001, 0.1]",
          "count": 5,
          "predicted": 7,
          "variable": "2"
         },
         {
          "actual": 2,
          "bins": "(-0.001, 0.1]",
          "count": 5,
          "predicted": 8,
          "variable": "2"
         },
         {
          "actual": 3,
          "bins": "(-0.001, 0.1]",
          "count": 5,
          "predicted": 2,
          "variable": "3"
         },
         {
          "actual": 3,
          "bins": "(-0.001, 0.1]",
          "count": 3,
          "predicted": 7,
          "variable": "3"
         },
         {
          "actual": 3,
          "bins": "(-0.001, 0.1]",
          "count": 9,
          "predicted": 8,
          "variable": "3"
         },
         {
          "actual": 4,
          "bins": "(-0.001, 0.1]",
          "count": 4,
          "predicted": 2,
          "variable": "4"
         },
         {
          "actual": 4,
          "bins": "(-0.001, 0.1]",
          "count": 3,
          "predicted": 9,
          "variable": "4"
         },
         {
          "actual": 5,
          "bins": "(-0.001, 0.1]",
          "count": 2,
          "predicted": 0,
          "variable": "5"
         },
         {
          "actual": 5,
          "bins": "(-0.001, 0.1]",
          "count": 13,
          "predicted": 3,
          "variable": "5"
         },
         {
          "actual": 5,
          "bins": "(-0.001, 0.1]",
          "count": 2,
          "predicted": 4,
          "variable": "5"
         },
         {
          "actual": 5,
          "bins": "(-0.001, 0.1]",
          "count": 3,
          "predicted": 6,
          "variable": "5"
         },
         {
          "actual": 5,
          "bins": "(-0.001, 0.1]",
          "count": 10,
          "predicted": 8,
          "variable": "5"
         },
         {
          "actual": 5,
          "bins": "(-0.001, 0.1]",
          "count": 1,
          "predicted": 9,
          "variable": "5"
         },
         {
          "actual": 6,
          "bins": "(-0.001, 0.1]",
          "count": 3,
          "predicted": 0,
          "variable": "6"
         },
         {
          "actual": 6,
          "bins": "(-0.001, 0.1]",
          "count": 3,
          "predicted": 1,
          "variable": "6"
         },
         {
          "actual": 6,
          "bins": "(-0.001, 0.1]",
          "count": 1,
          "predicted": 3,
          "variable": "6"
         },
         {
          "actual": 6,
          "bins": "(-0.001, 0.1]",
          "count": 7,
          "predicted": 4,
          "variable": "6"
         },
         {
          "actual": 6,
          "bins": "(-0.001, 0.1]",
          "count": 4,
          "predicted": 5,
          "variable": "6"
         },
         {
          "actual": 6,
          "bins": "(-0.001, 0.1]",
          "count": 3,
          "predicted": 8,
          "variable": "6"
         },
         {
          "actual": 7,
          "bins": "(-0.001, 0.1]",
          "count": 1,
          "predicted": 0,
          "variable": "7"
         },
         {
          "actual": 7,
          "bins": "(-0.001, 0.1]",
          "count": 4,
          "predicted": 1,
          "variable": "7"
         },
         {
          "actual": 7,
          "bins": "(-0.001, 0.1]",
          "count": 7,
          "predicted": 2,
          "variable": "7"
         },
         {
          "actual": 7,
          "bins": "(-0.001, 0.1]",
          "count": 3,
          "predicted": 4,
          "variable": "7"
         },
         {
          "actual": 7,
          "bins": "(-0.001, 0.1]",
          "count": 1,
          "predicted": 8,
          "variable": "7"
         },
         {
          "actual": 7,
          "bins": "(-0.001, 0.1]",
          "count": 4,
          "predicted": 9,
          "variable": "7"
         },
         {
          "actual": 8,
          "bins": "(-0.001, 0.1]",
          "count": 1,
          "predicted": 2,
          "variable": "8"
         },
         {
          "actual": 8,
          "bins": "(-0.001, 0.1]",
          "count": 1,
          "predicted": 3,
          "variable": "8"
         },
         {
          "actual": 8,
          "bins": "(-0.001, 0.1]",
          "count": 3,
          "predicted": 4,
          "variable": "8"
         },
         {
          "actual": 8,
          "bins": "(-0.001, 0.1]",
          "count": 1,
          "predicted": 7,
          "variable": "8"
         },
         {
          "actual": 8,
          "bins": "(-0.001, 0.1]",
          "count": 1,
          "predicted": 9,
          "variable": "8"
         },
         {
          "actual": 9,
          "bins": "(-0.001, 0.1]",
          "count": 2,
          "predicted": 0,
          "variable": "9"
         },
         {
          "actual": 9,
          "bins": "(-0.001, 0.1]",
          "count": 1,
          "predicted": 1,
          "variable": "9"
         },
         {
          "actual": 9,
          "bins": "(-0.001, 0.1]",
          "count": 1,
          "predicted": 2,
          "variable": "9"
         },
         {
          "actual": 9,
          "bins": "(-0.001, 0.1]",
          "count": 4,
          "predicted": 3,
          "variable": "9"
         },
         {
          "actual": 9,
          "bins": "(-0.001, 0.1]",
          "count": 4,
          "predicted": 4,
          "variable": "9"
         },
         {
          "actual": 9,
          "bins": "(-0.001, 0.1]",
          "count": 1,
          "predicted": 7,
          "variable": "9"
         },
         {
          "actual": 9,
          "bins": "(-0.001, 0.1]",
          "count": 2,
          "predicted": 8,
          "variable": "9"
         },
         {
          "actual": 1,
          "bins": "(0.1, 0.2]",
          "count": 1,
          "predicted": 8,
          "variable": "1"
         },
         {
          "actual": 2,
          "bins": "(0.1, 0.2]",
          "count": 2,
          "predicted": 0,
          "variable": "2"
         },
         {
          "actual": 2,
          "bins": "(0.1, 0.2]",
          "count": 1,
          "predicted": 4,
          "variable": "2"
         },
         {
          "actual": 2,
          "bins": "(0.1, 0.2]",
          "count": 1,
          "predicted": 7,
          "variable": "2"
         },
         {
          "actual": 2,
          "bins": "(0.1, 0.2]",
          "count": 3,
          "predicted": 8,
          "variable": "2"
         },
         {
          "actual": 3,
          "bins": "(0.1, 0.2]",
          "count": 1,
          "predicted": 2,
          "variable": "3"
         },
         {
          "actual": 3,
          "bins": "(0.1, 0.2]",
          "count": 1,
          "predicted": 5,
          "variable": "3"
         },
         {
          "actual": 3,
          "bins": "(0.1, 0.2]",
          "count": 2,
          "predicted": 8,
          "variable": "3"
         },
         {
          "actual": 4,
          "bins": "(0.1, 0.2]",
          "count": 2,
          "predicted": 2,
          "variable": "4"
         },
         {
          "actual": 4,
          "bins": "(0.1, 0.2]",
          "count": 1,
          "predicted": 8,
          "variable": "4"
         },
         {
          "actual": 4,
          "bins": "(0.1, 0.2]",
          "count": 7,
          "predicted": 9,
          "variable": "4"
         },
         {
          "actual": 5,
          "bins": "(0.1, 0.2]",
          "count": 6,
          "predicted": 3,
          "variable": "5"
         },
         {
          "actual": 5,
          "bins": "(0.1, 0.2]",
          "count": 1,
          "predicted": 6,
          "variable": "5"
         },
         {
          "actual": 5,
          "bins": "(0.1, 0.2]",
          "count": 2,
          "predicted": 7,
          "variable": "5"
         },
         {
          "actual": 5,
          "bins": "(0.1, 0.2]",
          "count": 1,
          "predicted": 8,
          "variable": "5"
         },
         {
          "actual": 6,
          "bins": "(0.1, 0.2]",
          "count": 1,
          "predicted": 0,
          "variable": "6"
         },
         {
          "actual": 7,
          "bins": "(0.1, 0.2]",
          "count": 3,
          "predicted": 2,
          "variable": "7"
         },
         {
          "actual": 7,
          "bins": "(0.1, 0.2]",
          "count": 1,
          "predicted": 3,
          "variable": "7"
         },
         {
          "actual": 7,
          "bins": "(0.1, 0.2]",
          "count": 4,
          "predicted": 9,
          "variable": "7"
         },
         {
          "actual": 8,
          "bins": "(0.1, 0.2]",
          "count": 2,
          "predicted": 3,
          "variable": "8"
         },
         {
          "actual": 8,
          "bins": "(0.1, 0.2]",
          "count": 1,
          "predicted": 4,
          "variable": "8"
         },
         {
          "actual": 8,
          "bins": "(0.1, 0.2]",
          "count": 2,
          "predicted": 6,
          "variable": "8"
         },
         {
          "actual": 8,
          "bins": "(0.1, 0.2]",
          "count": 2,
          "predicted": 7,
          "variable": "8"
         },
         {
          "actual": 9,
          "bins": "(0.1, 0.2]",
          "count": 3,
          "predicted": 3,
          "variable": "9"
         },
         {
          "actual": 9,
          "bins": "(0.1, 0.2]",
          "count": 4,
          "predicted": 4,
          "variable": "9"
         },
         {
          "actual": 9,
          "bins": "(0.1, 0.2]",
          "count": 2,
          "predicted": 7,
          "variable": "9"
         },
         {
          "actual": 9,
          "bins": "(0.1, 0.2]",
          "count": 4,
          "predicted": 8,
          "variable": "9"
         },
         {
          "actual": 0,
          "bins": "(0.2, 0.3]",
          "count": 1,
          "predicted": 3,
          "variable": "0"
         },
         {
          "actual": 1,
          "bins": "(0.2, 0.3]",
          "count": 1,
          "predicted": 2,
          "variable": "1"
         },
         {
          "actual": 1,
          "bins": "(0.2, 0.3]",
          "count": 1,
          "predicted": 3,
          "variable": "1"
         },
         {
          "actual": 2,
          "bins": "(0.2, 0.3]",
          "count": 1,
          "predicted": 0,
          "variable": "2"
         },
         {
          "actual": 2,
          "bins": "(0.2, 0.3]",
          "count": 1,
          "predicted": 3,
          "variable": "2"
         },
         {
          "actual": 2,
          "bins": "(0.2, 0.3]",
          "count": 4,
          "predicted": 8,
          "variable": "2"
         },
         {
          "actual": 3,
          "bins": "(0.2, 0.3]",
          "count": 2,
          "predicted": 2,
          "variable": "3"
         },
         {
          "actual": 3,
          "bins": "(0.2, 0.3]",
          "count": 2,
          "predicted": 7,
          "variable": "3"
         },
         {
          "actual": 3,
          "bins": "(0.2, 0.3]",
          "count": 3,
          "predicted": 8,
          "variable": "3"
         },
         {
          "actual": 4,
          "bins": "(0.2, 0.3]",
          "count": 1,
          "predicted": 2,
          "variable": "4"
         },
         {
          "actual": 4,
          "bins": "(0.2, 0.3]",
          "count": 1,
          "predicted": 7,
          "variable": "4"
         },
         {
          "actual": 4,
          "bins": "(0.2, 0.3]",
          "count": 1,
          "predicted": 9,
          "variable": "4"
         },
         {
          "actual": 5,
          "bins": "(0.2, 0.3]",
          "count": 1,
          "predicted": 0,
          "variable": "5"
         },
         {
          "actual": 5,
          "bins": "(0.2, 0.3]",
          "count": 1,
          "predicted": 2,
          "variable": "5"
         },
         {
          "actual": 5,
          "bins": "(0.2, 0.3]",
          "count": 3,
          "predicted": 3,
          "variable": "5"
         },
         {
          "actual": 5,
          "bins": "(0.2, 0.3]",
          "count": 1,
          "predicted": 6,
          "variable": "5"
         },
         {
          "actual": 5,
          "bins": "(0.2, 0.3]",
          "count": 6,
          "predicted": 8,
          "variable": "5"
         },
         {
          "actual": 5,
          "bins": "(0.2, 0.3]",
          "count": 2,
          "predicted": 9,
          "variable": "5"
         },
         {
          "actual": 6,
          "bins": "(0.2, 0.3]",
          "count": 2,
          "predicted": 4,
          "variable": "6"
         },
         {
          "actual": 6,
          "bins": "(0.2, 0.3]",
          "count": 1,
          "predicted": 8,
          "variable": "6"
         },
         {
          "actual": 7,
          "bins": "(0.2, 0.3]",
          "count": 1,
          "predicted": 1,
          "variable": "7"
         },
         {
          "actual": 7,
          "bins": "(0.2, 0.3]",
          "count": 4,
          "predicted": 2,
          "variable": "7"
         },
         {
          "actual": 7,
          "bins": "(0.2, 0.3]",
          "count": 1,
          "predicted": 3,
          "variable": "7"
         },
         {
          "actual": 7,
          "bins": "(0.2, 0.3]",
          "count": 1,
          "predicted": 8,
          "variable": "7"
         },
         {
          "actual": 7,
          "bins": "(0.2, 0.3]",
          "count": 2,
          "predicted": 9,
          "variable": "7"
         },
         {
          "actual": 8,
          "bins": "(0.2, 0.3]",
          "count": 1,
          "predicted": 0,
          "variable": "8"
         },
         {
          "actual": 8,
          "bins": "(0.2, 0.3]",
          "count": 1,
          "predicted": 2,
          "variable": "8"
         },
         {
          "actual": 8,
          "bins": "(0.2, 0.3]",
          "count": 2,
          "predicted": 3,
          "variable": "8"
         },
         {
          "actual": 8,
          "bins": "(0.2, 0.3]",
          "count": 2,
          "predicted": 7,
          "variable": "8"
         },
         {
          "actual": 9,
          "bins": "(0.2, 0.3]",
          "count": 1,
          "predicted": 0,
          "variable": "9"
         },
         {
          "actual": 9,
          "bins": "(0.2, 0.3]",
          "count": 1,
          "predicted": 1,
          "variable": "9"
         },
         {
          "actual": 9,
          "bins": "(0.2, 0.3]",
          "count": 1,
          "predicted": 2,
          "variable": "9"
         },
         {
          "actual": 9,
          "bins": "(0.2, 0.3]",
          "count": 2,
          "predicted": 3,
          "variable": "9"
         },
         {
          "actual": 9,
          "bins": "(0.2, 0.3]",
          "count": 4,
          "predicted": 4,
          "variable": "9"
         },
         {
          "actual": 9,
          "bins": "(0.2, 0.3]",
          "count": 2,
          "predicted": 8,
          "variable": "9"
         },
         {
          "actual": 0,
          "bins": "(0.3, 0.4]",
          "count": 1,
          "predicted": 4,
          "variable": "0"
         },
         {
          "actual": 1,
          "bins": "(0.3, 0.4]",
          "count": 1,
          "predicted": 1,
          "variable": "1"
         },
         {
          "actual": 1,
          "bins": "(0.3, 0.4]",
          "count": 2,
          "predicted": 8,
          "variable": "1"
         },
         {
          "actual": 2,
          "bins": "(0.3, 0.4]",
          "count": 1,
          "predicted": 0,
          "variable": "2"
         },
         {
          "actual": 2,
          "bins": "(0.3, 0.4]",
          "count": 1,
          "predicted": 2,
          "variable": "2"
         },
         {
          "actual": 2,
          "bins": "(0.3, 0.4]",
          "count": 1,
          "predicted": 4,
          "variable": "2"
         },
         {
          "actual": 2,
          "bins": "(0.3, 0.4]",
          "count": 1,
          "predicted": 6,
          "variable": "2"
         },
         {
          "actual": 2,
          "bins": "(0.3, 0.4]",
          "count": 4,
          "predicted": 8,
          "variable": "2"
         },
         {
          "actual": 3,
          "bins": "(0.3, 0.4]",
          "count": 2,
          "predicted": 2,
          "variable": "3"
         },
         {
          "actual": 3,
          "bins": "(0.3, 0.4]",
          "count": 2,
          "predicted": 7,
          "variable": "3"
         },
         {
          "actual": 3,
          "bins": "(0.3, 0.4]",
          "count": 5,
          "predicted": 8,
          "variable": "3"
         },
         {
          "actual": 3,
          "bins": "(0.3, 0.4]",
          "count": 1,
          "predicted": 9,
          "variable": "3"
         },
         {
          "actual": 4,
          "bins": "(0.3, 0.4]",
          "count": 1,
          "predicted": 4,
          "variable": "4"
         },
         {
          "actual": 5,
          "bins": "(0.3, 0.4]",
          "count": 6,
          "predicted": 3,
          "variable": "5"
         },
         {
          "actual": 5,
          "bins": "(0.3, 0.4]",
          "count": 2,
          "predicted": 5,
          "variable": "5"
         },
         {
          "actual": 5,
          "bins": "(0.3, 0.4]",
          "count": 1,
          "predicted": 6,
          "variable": "5"
         },
         {
          "actual": 5,
          "bins": "(0.3, 0.4]",
          "count": 1,
          "predicted": 7,
          "variable": "5"
         },
         {
          "actual": 5,
          "bins": "(0.3, 0.4]",
          "count": 4,
          "predicted": 8,
          "variable": "5"
         },
         {
          "actual": 5,
          "bins": "(0.3, 0.4]",
          "count": 3,
          "predicted": 9,
          "variable": "5"
         },
         {
          "actual": 6,
          "bins": "(0.3, 0.4]",
          "count": 2,
          "predicted": 0,
          "variable": "6"
         },
         {
          "actual": 6,
          "bins": "(0.3, 0.4]",
          "count": 1,
          "predicted": 4,
          "variable": "6"
         },
         {
          "actual": 6,
          "bins": "(0.3, 0.4]",
          "count": 1,
          "predicted": 5,
          "variable": "6"
         },
         {
          "actual": 7,
          "bins": "(0.3, 0.4]",
          "count": 2,
          "predicted": 2,
          "variable": "7"
         },
         {
          "actual": 7,
          "bins": "(0.3, 0.4]",
          "count": 2,
          "predicted": 4,
          "variable": "7"
         },
         {
          "actual": 7,
          "bins": "(0.3, 0.4]",
          "count": 1,
          "predicted": 7,
          "variable": "7"
         },
         {
          "actual": 7,
          "bins": "(0.3, 0.4]",
          "count": 3,
          "predicted": 9,
          "variable": "7"
         },
         {
          "actual": 8,
          "bins": "(0.3, 0.4]",
          "count": 1,
          "predicted": 0,
          "variable": "8"
         },
         {
          "actual": 8,
          "bins": "(0.3, 0.4]",
          "count": 2,
          "predicted": 2,
          "variable": "8"
         },
         {
          "actual": 8,
          "bins": "(0.3, 0.4]",
          "count": 2,
          "predicted": 3,
          "variable": "8"
         },
         {
          "actual": 8,
          "bins": "(0.3, 0.4]",
          "count": 1,
          "predicted": 4,
          "variable": "8"
         },
         {
          "actual": 8,
          "bins": "(0.3, 0.4]",
          "count": 2,
          "predicted": 6,
          "variable": "8"
         },
         {
          "actual": 8,
          "bins": "(0.3, 0.4]",
          "count": 1,
          "predicted": 7,
          "variable": "8"
         },
         {
          "actual": 9,
          "bins": "(0.3, 0.4]",
          "count": 1,
          "predicted": 3,
          "variable": "9"
         },
         {
          "actual": 9,
          "bins": "(0.3, 0.4]",
          "count": 3,
          "predicted": 4,
          "variable": "9"
         },
         {
          "actual": 9,
          "bins": "(0.3, 0.4]",
          "count": 1,
          "predicted": 7,
          "variable": "9"
         },
         {
          "actual": 9,
          "bins": "(0.3, 0.4]",
          "count": 2,
          "predicted": 8,
          "variable": "9"
         },
         {
          "actual": 0,
          "bins": "(0.4, 0.5]",
          "count": 3,
          "predicted": 0,
          "variable": "0"
         },
         {
          "actual": 0,
          "bins": "(0.4, 0.5]",
          "count": 1,
          "predicted": 4,
          "variable": "0"
         },
         {
          "actual": 1,
          "bins": "(0.4, 0.5]",
          "count": 3,
          "predicted": 1,
          "variable": "1"
         },
         {
          "actual": 1,
          "bins": "(0.4, 0.5]",
          "count": 2,
          "predicted": 8,
          "variable": "1"
         },
         {
          "actual": 2,
          "bins": "(0.4, 0.5]",
          "count": 4,
          "predicted": 2,
          "variable": "2"
         },
         {
          "actual": 2,
          "bins": "(0.4, 0.5]",
          "count": 2,
          "predicted": 8,
          "variable": "2"
         },
         {
          "actual": 3,
          "bins": "(0.4, 0.5]",
          "count": 5,
          "predicted": 3,
          "variable": "3"
         },
         {
          "actual": 3,
          "bins": "(0.4, 0.5]",
          "count": 1,
          "predicted": 4,
          "variable": "3"
         },
         {
          "actual": 3,
          "bins": "(0.4, 0.5]",
          "count": 1,
          "predicted": 5,
          "variable": "3"
         },
         {
          "actual": 3,
          "bins": "(0.4, 0.5]",
          "count": 5,
          "predicted": 8,
          "variable": "3"
         },
         {
          "actual": 4,
          "bins": "(0.4, 0.5]",
          "count": 1,
          "predicted": 2,
          "variable": "4"
         },
         {
          "actual": 4,
          "bins": "(0.4, 0.5]",
          "count": 2,
          "predicted": 4,
          "variable": "4"
         },
         {
          "actual": 4,
          "bins": "(0.4, 0.5]",
          "count": 1,
          "predicted": 6,
          "variable": "4"
         },
         {
          "actual": 4,
          "bins": "(0.4, 0.5]",
          "count": 5,
          "predicted": 9,
          "variable": "4"
         },
         {
          "actual": 5,
          "bins": "(0.4, 0.5]",
          "count": 6,
          "predicted": 3,
          "variable": "5"
         },
         {
          "actual": 5,
          "bins": "(0.4, 0.5]",
          "count": 6,
          "predicted": 5,
          "variable": "5"
         },
         {
          "actual": 5,
          "bins": "(0.4, 0.5]",
          "count": 1,
          "predicted": 8,
          "variable": "5"
         },
         {
          "actual": 6,
          "bins": "(0.4, 0.5]",
          "count": 2,
          "predicted": 4,
          "variable": "6"
         },
         {
          "actual": 6,
          "bins": "(0.4, 0.5]",
          "count": 2,
          "predicted": 6,
          "variable": "6"
         },
         {
          "actual": 7,
          "bins": "(0.4, 0.5]",
          "count": 1,
          "predicted": 2,
          "variable": "7"
         },
         {
          "actual": 7,
          "bins": "(0.4, 0.5]",
          "count": 2,
          "predicted": 4,
          "variable": "7"
         },
         {
          "actual": 7,
          "bins": "(0.4, 0.5]",
          "count": 4,
          "predicted": 7,
          "variable": "7"
         },
         {
          "actual": 7,
          "bins": "(0.4, 0.5]",
          "count": 1,
          "predicted": 9,
          "variable": "7"
         },
         {
          "actual": 8,
          "bins": "(0.4, 0.5]",
          "count": 1,
          "predicted": 3,
          "variable": "8"
         },
         {
          "actual": 8,
          "bins": "(0.4, 0.5]",
          "count": 1,
          "predicted": 4,
          "variable": "8"
         },
         {
          "actual": 8,
          "bins": "(0.4, 0.5]",
          "count": 1,
          "predicted": 8,
          "variable": "8"
         },
         {
          "actual": 8,
          "bins": "(0.4, 0.5]",
          "count": 1,
          "predicted": 9,
          "variable": "8"
         },
         {
          "actual": 9,
          "bins": "(0.4, 0.5]",
          "count": 1,
          "predicted": 4,
          "variable": "9"
         },
         {
          "actual": 0,
          "bins": "(0.5, 0.6]",
          "count": 5,
          "predicted": 0,
          "variable": "0"
         },
         {
          "actual": 1,
          "bins": "(0.5, 0.6]",
          "count": 4,
          "predicted": 1,
          "variable": "1"
         },
         {
          "actual": 2,
          "bins": "(0.5, 0.6]",
          "count": 6,
          "predicted": 2,
          "variable": "2"
         },
         {
          "actual": 3,
          "bins": "(0.5, 0.6]",
          "count": 11,
          "predicted": 3,
          "variable": "3"
         },
         {
          "actual": 4,
          "bins": "(0.5, 0.6]",
          "count": 6,
          "predicted": 4,
          "variable": "4"
         },
         {
          "actual": 5,
          "bins": "(0.5, 0.6]",
          "count": 16,
          "predicted": 5,
          "variable": "5"
         },
         {
          "actual": 6,
          "bins": "(0.5, 0.6]",
          "count": 7,
          "predicted": 6,
          "variable": "6"
         },
         {
          "actual": 7,
          "bins": "(0.5, 0.6]",
          "count": 6,
          "predicted": 7,
          "variable": "7"
         },
         {
          "actual": 8,
          "bins": "(0.5, 0.6]",
          "count": 3,
          "predicted": 8,
          "variable": "8"
         },
         {
          "actual": 9,
          "bins": "(0.5, 0.6]",
          "count": 10,
          "predicted": 9,
          "variable": "9"
         },
         {
          "actual": 0,
          "bins": "(0.6, 0.7]",
          "count": 5,
          "predicted": 0,
          "variable": "0"
         },
         {
          "actual": 1,
          "bins": "(0.6, 0.7]",
          "count": 4,
          "predicted": 1,
          "variable": "1"
         },
         {
          "actual": 2,
          "bins": "(0.6, 0.7]",
          "count": 11,
          "predicted": 2,
          "variable": "2"
         },
         {
          "actual": 3,
          "bins": "(0.6, 0.7]",
          "count": 9,
          "predicted": 3,
          "variable": "3"
         },
         {
          "actual": 4,
          "bins": "(0.6, 0.7]",
          "count": 9,
          "predicted": 4,
          "variable": "4"
         },
         {
          "actual": 5,
          "bins": "(0.6, 0.7]",
          "count": 23,
          "predicted": 5,
          "variable": "5"
         },
         {
          "actual": 6,
          "bins": "(0.6, 0.7]",
          "count": 8,
          "predicted": 6,
          "variable": "6"
         },
         {
          "actual": 7,
          "bins": "(0.6, 0.7]",
          "count": 18,
          "predicted": 7,
          "variable": "7"
         },
         {
          "actual": 8,
          "bins": "(0.6, 0.7]",
          "count": 9,
          "predicted": 8,
          "variable": "8"
         },
         {
          "actual": 9,
          "bins": "(0.6, 0.7]",
          "count": 9,
          "predicted": 9,
          "variable": "9"
         },
         {
          "actual": 0,
          "bins": "(0.7, 0.8]",
          "count": 8,
          "predicted": 0,
          "variable": "0"
         },
         {
          "actual": 1,
          "bins": "(0.7, 0.8]",
          "count": 2,
          "predicted": 1,
          "variable": "1"
         },
         {
          "actual": 2,
          "bins": "(0.7, 0.8]",
          "count": 9,
          "predicted": 2,
          "variable": "2"
         },
         {
          "actual": 3,
          "bins": "(0.7, 0.8]",
          "count": 13,
          "predicted": 3,
          "variable": "3"
         },
         {
          "actual": 4,
          "bins": "(0.7, 0.8]",
          "count": 10,
          "predicted": 4,
          "variable": "4"
         },
         {
          "actual": 5,
          "bins": "(0.7, 0.8]",
          "count": 19,
          "predicted": 5,
          "variable": "5"
         },
         {
          "actual": 6,
          "bins": "(0.7, 0.8]",
          "count": 8,
          "predicted": 6,
          "variable": "6"
         },
         {
          "actual": 7,
          "bins": "(0.7, 0.8]",
          "count": 8,
          "predicted": 7,
          "variable": "7"
         },
         {
          "actual": 8,
          "bins": "(0.7, 0.8]",
          "count": 11,
          "predicted": 8,
          "variable": "8"
         },
         {
          "actual": 9,
          "bins": "(0.7, 0.8]",
          "count": 12,
          "predicted": 9,
          "variable": "9"
         },
         {
          "actual": 0,
          "bins": "(0.8, 0.9]",
          "count": 16,
          "predicted": 0,
          "variable": "0"
         },
         {
          "actual": 1,
          "bins": "(0.8, 0.9]",
          "count": 7,
          "predicted": 1,
          "variable": "1"
         },
         {
          "actual": 2,
          "bins": "(0.8, 0.9]",
          "count": 29,
          "predicted": 2,
          "variable": "2"
         },
         {
          "actual": 3,
          "bins": "(0.8, 0.9]",
          "count": 22,
          "predicted": 3,
          "variable": "3"
         },
         {
          "actual": 4,
          "bins": "(0.8, 0.9]",
          "count": 27,
          "predicted": 4,
          "variable": "4"
         },
         {
          "actual": 5,
          "bins": "(0.8, 0.9]",
          "count": 43,
          "predicted": 5,
          "variable": "5"
         },
         {
          "actual": 6,
          "bins": "(0.8, 0.9]",
          "count": 27,
          "predicted": 6,
          "variable": "6"
         },
         {
          "actual": 7,
          "bins": "(0.8, 0.9]",
          "count": 18,
          "predicted": 7,
          "variable": "7"
         },
         {
          "actual": 8,
          "bins": "(0.8, 0.9]",
          "count": 19,
          "predicted": 8,
          "variable": "8"
         },
         {
          "actual": 9,
          "bins": "(0.8, 0.9]",
          "count": 23,
          "predicted": 9,
          "variable": "9"
         },
         {
          "actual": 0,
          "bins": "(0.9, 1.0]",
          "count": 933,
          "predicted": 0,
          "variable": "0"
         },
         {
          "actual": 1,
          "bins": "(0.9, 1.0]",
          "count": 1098,
          "predicted": 1,
          "variable": "1"
         },
         {
          "actual": 2,
          "bins": "(0.9, 1.0]",
          "count": 938,
          "predicted": 2,
          "variable": "2"
         },
         {
          "actual": 3,
          "bins": "(0.9, 1.0]",
          "count": 905,
          "predicted": 3,
          "variable": "3"
         },
         {
          "actual": 4,
          "bins": "(0.9, 1.0]",
          "count": 900,
          "predicted": 4,
          "variable": "4"
         },
         {
          "actual": 5,
          "bins": "(0.9, 1.0]",
          "count": 706,
          "predicted": 5,
          "variable": "5"
         },
         {
          "actual": 6,
          "bins": "(0.9, 1.0]",
          "count": 875,
          "predicted": 6,
          "variable": "6"
         },
         {
          "actual": 7,
          "bins": "(0.9, 1.0]",
          "count": 925,
          "predicted": 7,
          "variable": "7"
         },
         {
          "actual": 8,
          "bins": "(0.9, 1.0]",
          "count": 899,
          "predicted": 8,
          "variable": "8"
         },
         {
          "actual": 9,
          "bins": "(0.9, 1.0]",
          "count": 908,
          "predicted": 9,
          "variable": "9"
         }
        ]
       },
       "encoding": {
        "color": {
         "field": "predicted",
         "type": "nominal"
        },
        "column": {
         "field": "actual",
         "title": "",
         "type": "quantitative"
        },
        "tooltip": [
         {
          "field": "count",
          "type": "quantitative"
         },
         {
          "field": "predicted",
          "type": "quantitative"
         }
        ],
        "x": {
         "axis": {
          "labels": false,
          "ticks": false,
          "title": ""
         },
         "field": "count",
         "type": "quantitative"
        },
        "y": {
         "field": "bins",
         "sort": {
          "field": "bins",
          "op": "sum",
          "order": "descending"
         },
         "title": "Prediction Score",
         "type": "nominal"
        }
       },
       "mark": "bar",
       "title": "",
       "width": 100
      },
      "image/png": "[encoded data removed]",
      "text/plain": [
       "<VegaLite 2 object>\n",
       "\n",
       "If you see this message, it means the renderer has not been properly enabled\n",
       "for the frontend that you are using. For more information, see\n",
       "https://altair-viz.github.io/user_guide/troubleshooting.html\n"
      ]
     },
     "execution_count": 4,
     "metadata": {},
     "output_type": "execute_result"
    }
   ],
   "source": [
    "squares(y_prob, actual, y_classes)"
   ]
  },
  {
   "cell_type": "code",
   "execution_count": 5,
   "metadata": {},
   "outputs": [],
   "source": [
    "from sklearn.ensemble import RandomForestClassifier"
   ]
  },
  {
   "cell_type": "code",
   "execution_count": 6,
   "metadata": {},
   "outputs": [
    {
     "name": "stderr",
     "output_type": "stream",
     "text": [
      "/Users/ignat/anaconda3/lib/python3.6/site-packages/sklearn/ensemble/forest.py:246: FutureWarning: The default value of n_estimators will change from 10 in version 0.20 to 100 in 0.22.\n",
      "  \"10 in version 0.20 to 100 in 0.22.\", FutureWarning)\n"
     ]
    }
   ],
   "source": [
    "clf = RandomForestClassifier().fit(x_train, y_train.argmax(axis=-1))"
   ]
  },
  {
   "cell_type": "code",
   "execution_count": 7,
   "metadata": {},
   "outputs": [],
   "source": [
    "y_prob = clf.predict_proba(x_test)\n",
    "y_classes = clf.predict(x_test)"
   ]
  },
  {
   "cell_type": "code",
   "execution_count": 8,
   "metadata": {},
   "outputs": [
    {
     "data": {
      "application/vnd.vegalite.v2+json": {
       "$schema": "https://vega.github.io/schema/vega-lite/v2.6.0.json",
       "config": {
        "axis": {
         "grid": false
        },
        "view": {
         "height": 300,
         "strokeOpacity": 0,
         "width": 400
        }
       },
       "data": {
        "name": "data-1811a4b6cddcf1d5e0d5816b4c55a10d"
       },
       "datasets": {
        "data-1811a4b6cddcf1d5e0d5816b4c55a10d": [
         {
          "actual": 0,
          "bins": "(-0.001, 0.1]",
          "count": 2,
          "predicted": 5,
          "variable": "0"
         },
         {
          "actual": 0,
          "bins": "(-0.001, 0.1]",
          "count": 1,
          "predicted": 9,
          "variable": "0"
         },
         {
          "actual": 1,
          "bins": "(-0.001, 0.1]",
          "count": 2,
          "predicted": 2,
          "variable": "1"
         },
         {
          "actual": 1,
          "bins": "(-0.001, 0.1]",
          "count": 2,
          "predicted": 3,
          "variable": "1"
         },
         {
          "actual": 1,
          "bins": "(-0.001, 0.1]",
          "count": 1,
          "predicted": 6,
          "variable": "1"
         },
         {
          "actual": 1,
          "bins": "(-0.001, 0.1]",
          "count": 1,
          "predicted": 8,
          "variable": "1"
         },
         {
          "actual": 2,
          "bins": "(-0.001, 0.1]",
          "count": 3,
          "predicted": 0,
          "variable": "2"
         },
         {
          "actual": 2,
          "bins": "(-0.001, 0.1]",
          "count": 1,
          "predicted": 1,
          "variable": "2"
         },
         {
          "actual": 2,
          "bins": "(-0.001, 0.1]",
          "count": 4,
          "predicted": 3,
          "variable": "2"
         },
         {
          "actual": 2,
          "bins": "(-0.001, 0.1]",
          "count": 3,
          "predicted": 4,
          "variable": "2"
         },
         {
          "actual": 2,
          "bins": "(-0.001, 0.1]",
          "count": 5,
          "predicted": 7,
          "variable": "2"
         },
         {
          "actual": 2,
          "bins": "(-0.001, 0.1]",
          "count": 5,
          "predicted": 8,
          "variable": "2"
         },
         {
          "actual": 3,
          "bins": "(-0.001, 0.1]",
          "count": 2,
          "predicted": 1,
          "variable": "3"
         },
         {
          "actual": 3,
          "bins": "(-0.001, 0.1]",
          "count": 3,
          "predicted": 2,
          "variable": "3"
         },
         {
          "actual": 3,
          "bins": "(-0.001, 0.1]",
          "count": 1,
          "predicted": 5,
          "variable": "3"
         },
         {
          "actual": 3,
          "bins": "(-0.001, 0.1]",
          "count": 5,
          "predicted": 7,
          "variable": "3"
         },
         {
          "actual": 3,
          "bins": "(-0.001, 0.1]",
          "count": 7,
          "predicted": 8,
          "variable": "3"
         },
         {
          "actual": 4,
          "bins": "(-0.001, 0.1]",
          "count": 2,
          "predicted": 2,
          "variable": "4"
         },
         {
          "actual": 4,
          "bins": "(-0.001, 0.1]",
          "count": 1,
          "predicted": 3,
          "variable": "4"
         },
         {
          "actual": 4,
          "bins": "(-0.001, 0.1]",
          "count": 1,
          "predicted": 6,
          "variable": "4"
         },
         {
          "actual": 4,
          "bins": "(-0.001, 0.1]",
          "count": 1,
          "predicted": 8,
          "variable": "4"
         },
         {
          "actual": 4,
          "bins": "(-0.001, 0.1]",
          "count": 6,
          "predicted": 9,
          "variable": "4"
         },
         {
          "actual": 5,
          "bins": "(-0.001, 0.1]",
          "count": 3,
          "predicted": 0,
          "variable": "5"
         },
         {
          "actual": 5,
          "bins": "(-0.001, 0.1]",
          "count": 2,
          "predicted": 2,
          "variable": "5"
         },
         {
          "actual": 5,
          "bins": "(-0.001, 0.1]",
          "count": 3,
          "predicted": 3,
          "variable": "5"
         },
         {
          "actual": 5,
          "bins": "(-0.001, 0.1]",
          "count": 1,
          "predicted": 4,
          "variable": "5"
         },
         {
          "actual": 5,
          "bins": "(-0.001, 0.1]",
          "count": 6,
          "predicted": 6,
          "variable": "5"
         },
         {
          "actual": 5,
          "bins": "(-0.001, 0.1]",
          "count": 1,
          "predicted": 7,
          "variable": "5"
         },
         {
          "actual": 5,
          "bins": "(-0.001, 0.1]",
          "count": 1,
          "predicted": 8,
          "variable": "5"
         },
         {
          "actual": 6,
          "bins": "(-0.001, 0.1]",
          "count": 4,
          "predicted": 0,
          "variable": "6"
         },
         {
          "actual": 6,
          "bins": "(-0.001, 0.1]",
          "count": 1,
          "predicted": 2,
          "variable": "6"
         },
         {
          "actual": 6,
          "bins": "(-0.001, 0.1]",
          "count": 1,
          "predicted": 4,
          "variable": "6"
         },
         {
          "actual": 6,
          "bins": "(-0.001, 0.1]",
          "count": 1,
          "predicted": 8,
          "variable": "6"
         },
         {
          "actual": 7,
          "bins": "(-0.001, 0.1]",
          "count": 2,
          "predicted": 0,
          "variable": "7"
         },
         {
          "actual": 7,
          "bins": "(-0.001, 0.1]",
          "count": 1,
          "predicted": 1,
          "variable": "7"
         },
         {
          "actual": 7,
          "bins": "(-0.001, 0.1]",
          "count": 7,
          "predicted": 2,
          "variable": "7"
         },
         {
          "actual": 7,
          "bins": "(-0.001, 0.1]",
          "count": 2,
          "predicted": 3,
          "variable": "7"
         },
         {
          "actual": 7,
          "bins": "(-0.001, 0.1]",
          "count": 3,
          "predicted": 4,
          "variable": "7"
         },
         {
          "actual": 7,
          "bins": "(-0.001, 0.1]",
          "count": 3,
          "predicted": 8,
          "variable": "7"
         },
         {
          "actual": 8,
          "bins": "(-0.001, 0.1]",
          "count": 4,
          "predicted": 0,
          "variable": "8"
         },
         {
          "actual": 8,
          "bins": "(-0.001, 0.1]",
          "count": 2,
          "predicted": 2,
          "variable": "8"
         },
         {
          "actual": 8,
          "bins": "(-0.001, 0.1]",
          "count": 4,
          "predicted": 3,
          "variable": "8"
         },
         {
          "actual": 8,
          "bins": "(-0.001, 0.1]",
          "count": 3,
          "predicted": 4,
          "variable": "8"
         },
         {
          "actual": 8,
          "bins": "(-0.001, 0.1]",
          "count": 3,
          "predicted": 5,
          "variable": "8"
         },
         {
          "actual": 8,
          "bins": "(-0.001, 0.1]",
          "count": 4,
          "predicted": 7,
          "variable": "8"
         },
         {
          "actual": 8,
          "bins": "(-0.001, 0.1]",
          "count": 3,
          "predicted": 9,
          "variable": "8"
         },
         {
          "actual": 9,
          "bins": "(-0.001, 0.1]",
          "count": 2,
          "predicted": 0,
          "variable": "9"
         },
         {
          "actual": 9,
          "bins": "(-0.001, 0.1]",
          "count": 1,
          "predicted": 1,
          "variable": "9"
         },
         {
          "actual": 9,
          "bins": "(-0.001, 0.1]",
          "count": 2,
          "predicted": 2,
          "variable": "9"
         },
         {
          "actual": 9,
          "bins": "(-0.001, 0.1]",
          "count": 5,
          "predicted": 3,
          "variable": "9"
         },
         {
          "actual": 9,
          "bins": "(-0.001, 0.1]",
          "count": 4,
          "predicted": 4,
          "variable": "9"
         },
         {
          "actual": 9,
          "bins": "(-0.001, 0.1]",
          "count": 2,
          "predicted": 5,
          "variable": "9"
         },
         {
          "actual": 9,
          "bins": "(-0.001, 0.1]",
          "count": 1,
          "predicted": 6,
          "variable": "9"
         },
         {
          "actual": 9,
          "bins": "(-0.001, 0.1]",
          "count": 3,
          "predicted": 7,
          "variable": "9"
         },
         {
          "actual": 9,
          "bins": "(-0.001, 0.1]",
          "count": 3,
          "predicted": 8,
          "variable": "9"
         },
         {
          "actual": 0,
          "bins": "(0.1, 0.2]",
          "count": 3,
          "predicted": 0,
          "variable": "0"
         },
         {
          "actual": 0,
          "bins": "(0.1, 0.2]",
          "count": 1,
          "predicted": 2,
          "variable": "0"
         },
         {
          "actual": 0,
          "bins": "(0.1, 0.2]",
          "count": 1,
          "predicted": 3,
          "variable": "0"
         },
         {
          "actual": 0,
          "bins": "(0.1, 0.2]",
          "count": 1,
          "predicted": 5,
          "variable": "0"
         },
         {
          "actual": 0,
          "bins": "(0.1, 0.2]",
          "count": 1,
          "predicted": 6,
          "variable": "0"
         },
         {
          "actual": 0,
          "bins": "(0.1, 0.2]",
          "count": 1,
          "predicted": 7,
          "variable": "0"
         },
         {
          "actual": 0,
          "bins": "(0.1, 0.2]",
          "count": 2,
          "predicted": 8,
          "variable": "0"
         },
         {
          "actual": 1,
          "bins": "(0.1, 0.2]",
          "count": 1,
          "predicted": 1,
          "variable": "1"
         },
         {
          "actual": 1,
          "bins": "(0.1, 0.2]",
          "count": 1,
          "predicted": 3,
          "variable": "1"
         },
         {
          "actual": 1,
          "bins": "(0.1, 0.2]",
          "count": 1,
          "predicted": 6,
          "variable": "1"
         },
         {
          "actual": 1,
          "bins": "(0.1, 0.2]",
          "count": 1,
          "predicted": 9,
          "variable": "1"
         },
         {
          "actual": 2,
          "bins": "(0.1, 0.2]",
          "count": 1,
          "predicted": 1,
          "variable": "2"
         },
         {
          "actual": 2,
          "bins": "(0.1, 0.2]",
          "count": 2,
          "predicted": 2,
          "variable": "2"
         },
         {
          "actual": 2,
          "bins": "(0.1, 0.2]",
          "count": 6,
          "predicted": 3,
          "variable": "2"
         },
         {
          "actual": 2,
          "bins": "(0.1, 0.2]",
          "count": 2,
          "predicted": 4,
          "variable": "2"
         },
         {
          "actual": 2,
          "bins": "(0.1, 0.2]",
          "count": 1,
          "predicted": 6,
          "variable": "2"
         },
         {
          "actual": 2,
          "bins": "(0.1, 0.2]",
          "count": 3,
          "predicted": 7,
          "variable": "2"
         },
         {
          "actual": 2,
          "bins": "(0.1, 0.2]",
          "count": 2,
          "predicted": 8,
          "variable": "2"
         },
         {
          "actual": 3,
          "bins": "(0.1, 0.2]",
          "count": 9,
          "predicted": 2,
          "variable": "3"
         },
         {
          "actual": 3,
          "bins": "(0.1, 0.2]",
          "count": 4,
          "predicted": 5,
          "variable": "3"
         },
         {
          "actual": 3,
          "bins": "(0.1, 0.2]",
          "count": 2,
          "predicted": 6,
          "variable": "3"
         },
         {
          "actual": 3,
          "bins": "(0.1, 0.2]",
          "count": 3,
          "predicted": 7,
          "variable": "3"
         },
         {
          "actual": 3,
          "bins": "(0.1, 0.2]",
          "count": 3,
          "predicted": 8,
          "variable": "3"
         },
         {
          "actual": 3,
          "bins": "(0.1, 0.2]",
          "count": 1,
          "predicted": 9,
          "variable": "3"
         },
         {
          "actual": 4,
          "bins": "(0.1, 0.2]",
          "count": 2,
          "predicted": 2,
          "variable": "4"
         },
         {
          "actual": 4,
          "bins": "(0.1, 0.2]",
          "count": 1,
          "predicted": 4,
          "variable": "4"
         },
         {
          "actual": 4,
          "bins": "(0.1, 0.2]",
          "count": 2,
          "predicted": 6,
          "variable": "4"
         },
         {
          "actual": 4,
          "bins": "(0.1, 0.2]",
          "count": 7,
          "predicted": 8,
          "variable": "4"
         },
         {
          "actual": 4,
          "bins": "(0.1, 0.2]",
          "count": 3,
          "predicted": 9,
          "variable": "4"
         },
         {
          "actual": 5,
          "bins": "(0.1, 0.2]",
          "count": 2,
          "predicted": 0,
          "variable": "5"
         },
         {
          "actual": 5,
          "bins": "(0.1, 0.2]",
          "count": 6,
          "predicted": 3,
          "variable": "5"
         },
         {
          "actual": 5,
          "bins": "(0.1, 0.2]",
          "count": 1,
          "predicted": 4,
          "variable": "5"
         },
         {
          "actual": 5,
          "bins": "(0.1, 0.2]",
          "count": 3,
          "predicted": 5,
          "variable": "5"
         },
         {
          "actual": 5,
          "bins": "(0.1, 0.2]",
          "count": 2,
          "predicted": 6,
          "variable": "5"
         },
         {
          "actual": 5,
          "bins": "(0.1, 0.2]",
          "count": 1,
          "predicted": 7,
          "variable": "5"
         },
         {
          "actual": 5,
          "bins": "(0.1, 0.2]",
          "count": 3,
          "predicted": 8,
          "variable": "5"
         },
         {
          "actual": 5,
          "bins": "(0.1, 0.2]",
          "count": 1,
          "predicted": 9,
          "variable": "5"
         },
         {
          "actual": 6,
          "bins": "(0.1, 0.2]",
          "count": 3,
          "predicted": 0,
          "variable": "6"
         },
         {
          "actual": 6,
          "bins": "(0.1, 0.2]",
          "count": 3,
          "predicted": 1,
          "variable": "6"
         },
         {
          "actual": 6,
          "bins": "(0.1, 0.2]",
          "count": 1,
          "predicted": 4,
          "variable": "6"
         },
         {
          "actual": 6,
          "bins": "(0.1, 0.2]",
          "count": 2,
          "predicted": 5,
          "variable": "6"
         },
         {
          "actual": 6,
          "bins": "(0.1, 0.2]",
          "count": 2,
          "predicted": 8,
          "variable": "6"
         },
         {
          "actual": 7,
          "bins": "(0.1, 0.2]",
          "count": 1,
          "predicted": 0,
          "variable": "7"
         },
         {
          "actual": 7,
          "bins": "(0.1, 0.2]",
          "count": 4,
          "predicted": 1,
          "variable": "7"
         },
         {
          "actual": 7,
          "bins": "(0.1, 0.2]",
          "count": 3,
          "predicted": 2,
          "variable": "7"
         },
         {
          "actual": 7,
          "bins": "(0.1, 0.2]",
          "count": 1,
          "predicted": 3,
          "variable": "7"
         },
         {
          "actual": 7,
          "bins": "(0.1, 0.2]",
          "count": 2,
          "predicted": 4,
          "variable": "7"
         },
         {
          "actual": 7,
          "bins": "(0.1, 0.2]",
          "count": 1,
          "predicted": 8,
          "variable": "7"
         },
         {
          "actual": 7,
          "bins": "(0.1, 0.2]",
          "count": 4,
          "predicted": 9,
          "variable": "7"
         },
         {
          "actual": 8,
          "bins": "(0.1, 0.2]",
          "count": 2,
          "predicted": 0,
          "variable": "8"
         },
         {
          "actual": 8,
          "bins": "(0.1, 0.2]",
          "count": 2,
          "predicted": 1,
          "variable": "8"
         },
         {
          "actual": 8,
          "bins": "(0.1, 0.2]",
          "count": 5,
          "predicted": 2,
          "variable": "8"
         },
         {
          "actual": 8,
          "bins": "(0.1, 0.2]",
          "count": 10,
          "predicted": 3,
          "variable": "8"
         },
         {
          "actual": 8,
          "bins": "(0.1, 0.2]",
          "count": 1,
          "predicted": 4,
          "variable": "8"
         },
         {
          "actual": 8,
          "bins": "(0.1, 0.2]",
          "count": 3,
          "predicted": 5,
          "variable": "8"
         },
         {
          "actual": 8,
          "bins": "(0.1, 0.2]",
          "count": 3,
          "predicted": 9,
          "variable": "8"
         },
         {
          "actual": 9,
          "bins": "(0.1, 0.2]",
          "count": 1,
          "predicted": 0,
          "variable": "9"
         },
         {
          "actual": 9,
          "bins": "(0.1, 0.2]",
          "count": 1,
          "predicted": 1,
          "variable": "9"
         },
         {
          "actual": 9,
          "bins": "(0.1, 0.2]",
          "count": 2,
          "predicted": 2,
          "variable": "9"
         },
         {
          "actual": 9,
          "bins": "(0.1, 0.2]",
          "count": 3,
          "predicted": 3,
          "variable": "9"
         },
         {
          "actual": 9,
          "bins": "(0.1, 0.2]",
          "count": 6,
          "predicted": 4,
          "variable": "9"
         },
         {
          "actual": 9,
          "bins": "(0.1, 0.2]",
          "count": 2,
          "predicted": 5,
          "variable": "9"
         },
         {
          "actual": 9,
          "bins": "(0.1, 0.2]",
          "count": 2,
          "predicted": 7,
          "variable": "9"
         },
         {
          "actual": 9,
          "bins": "(0.1, 0.2]",
          "count": 6,
          "predicted": 8,
          "variable": "9"
         },
         {
          "actual": 0,
          "bins": "(0.2, 0.3]",
          "count": 2,
          "predicted": 0,
          "variable": "0"
         },
         {
          "actual": 0,
          "bins": "(0.2, 0.3]",
          "count": 1,
          "predicted": 6,
          "variable": "0"
         },
         {
          "actual": 0,
          "bins": "(0.2, 0.3]",
          "count": 1,
          "predicted": 9,
          "variable": "0"
         },
         {
          "actual": 1,
          "bins": "(0.2, 0.3]",
          "count": 1,
          "predicted": 1,
          "variable": "1"
         },
         {
          "actual": 1,
          "bins": "(0.2, 0.3]",
          "count": 1,
          "predicted": 6,
          "variable": "1"
         },
         {
          "actual": 1,
          "bins": "(0.2, 0.3]",
          "count": 1,
          "predicted": 8,
          "variable": "1"
         },
         {
          "actual": 2,
          "bins": "(0.2, 0.3]",
          "count": 4,
          "predicted": 0,
          "variable": "2"
         },
         {
          "actual": 2,
          "bins": "(0.2, 0.3]",
          "count": 1,
          "predicted": 1,
          "variable": "2"
         },
         {
          "actual": 2,
          "bins": "(0.2, 0.3]",
          "count": 16,
          "predicted": 2,
          "variable": "2"
         },
         {
          "actual": 2,
          "bins": "(0.2, 0.3]",
          "count": 3,
          "predicted": 3,
          "variable": "2"
         },
         {
          "actual": 2,
          "bins": "(0.2, 0.3]",
          "count": 2,
          "predicted": 6,
          "variable": "2"
         },
         {
          "actual": 2,
          "bins": "(0.2, 0.3]",
          "count": 2,
          "predicted": 7,
          "variable": "2"
         },
         {
          "actual": 2,
          "bins": "(0.2, 0.3]",
          "count": 2,
          "predicted": 8,
          "variable": "2"
         },
         {
          "actual": 3,
          "bins": "(0.2, 0.3]",
          "count": 1,
          "predicted": 1,
          "variable": "3"
         },
         {
          "actual": 3,
          "bins": "(0.2, 0.3]",
          "count": 3,
          "predicted": 2,
          "variable": "3"
         },
         {
          "actual": 3,
          "bins": "(0.2, 0.3]",
          "count": 17,
          "predicted": 3,
          "variable": "3"
         },
         {
          "actual": 3,
          "bins": "(0.2, 0.3]",
          "count": 8,
          "predicted": 5,
          "variable": "3"
         },
         {
          "actual": 3,
          "bins": "(0.2, 0.3]",
          "count": 1,
          "predicted": 7,
          "variable": "3"
         },
         {
          "actual": 3,
          "bins": "(0.2, 0.3]",
          "count": 2,
          "predicted": 8,
          "variable": "3"
         },
         {
          "actual": 3,
          "bins": "(0.2, 0.3]",
          "count": 2,
          "predicted": 9,
          "variable": "3"
         },
         {
          "actual": 4,
          "bins": "(0.2, 0.3]",
          "count": 12,
          "predicted": 4,
          "variable": "4"
         },
         {
          "actual": 4,
          "bins": "(0.2, 0.3]",
          "count": 2,
          "predicted": 6,
          "variable": "4"
         },
         {
          "actual": 4,
          "bins": "(0.2, 0.3]",
          "count": 1,
          "predicted": 7,
          "variable": "4"
         },
         {
          "actual": 4,
          "bins": "(0.2, 0.3]",
          "count": 2,
          "predicted": 8,
          "variable": "4"
         },
         {
          "actual": 4,
          "bins": "(0.2, 0.3]",
          "count": 5,
          "predicted": 9,
          "variable": "4"
         },
         {
          "actual": 5,
          "bins": "(0.2, 0.3]",
          "count": 2,
          "predicted": 0,
          "variable": "5"
         },
         {
          "actual": 5,
          "bins": "(0.2, 0.3]",
          "count": 1,
          "predicted": 2,
          "variable": "5"
         },
         {
          "actual": 5,
          "bins": "(0.2, 0.3]",
          "count": 9,
          "predicted": 3,
          "variable": "5"
         },
         {
          "actual": 5,
          "bins": "(0.2, 0.3]",
          "count": 4,
          "predicted": 4,
          "variable": "5"
         },
         {
          "actual": 5,
          "bins": "(0.2, 0.3]",
          "count": 11,
          "predicted": 5,
          "variable": "5"
         },
         {
          "actual": 5,
          "bins": "(0.2, 0.3]",
          "count": 1,
          "predicted": 6,
          "variable": "5"
         },
         {
          "actual": 5,
          "bins": "(0.2, 0.3]",
          "count": 1,
          "predicted": 7,
          "variable": "5"
         },
         {
          "actual": 5,
          "bins": "(0.2, 0.3]",
          "count": 3,
          "predicted": 8,
          "variable": "5"
         },
         {
          "actual": 5,
          "bins": "(0.2, 0.3]",
          "count": 1,
          "predicted": 9,
          "variable": "5"
         },
         {
          "actual": 6,
          "bins": "(0.2, 0.3]",
          "count": 5,
          "predicted": 0,
          "variable": "6"
         },
         {
          "actual": 6,
          "bins": "(0.2, 0.3]",
          "count": 4,
          "predicted": 2,
          "variable": "6"
         },
         {
          "actual": 6,
          "bins": "(0.2, 0.3]",
          "count": 3,
          "predicted": 4,
          "variable": "6"
         },
         {
          "actual": 6,
          "bins": "(0.2, 0.3]",
          "count": 1,
          "predicted": 6,
          "variable": "6"
         },
         {
          "actual": 6,
          "bins": "(0.2, 0.3]",
          "count": 2,
          "predicted": 8,
          "variable": "6"
         },
         {
          "actual": 7,
          "bins": "(0.2, 0.3]",
          "count": 2,
          "predicted": 1,
          "variable": "7"
         },
         {
          "actual": 7,
          "bins": "(0.2, 0.3]",
          "count": 2,
          "predicted": 2,
          "variable": "7"
         },
         {
          "actual": 7,
          "bins": "(0.2, 0.3]",
          "count": 2,
          "predicted": 3,
          "variable": "7"
         },
         {
          "actual": 7,
          "bins": "(0.2, 0.3]",
          "count": 2,
          "predicted": 4,
          "variable": "7"
         },
         {
          "actual": 7,
          "bins": "(0.2, 0.3]",
          "count": 6,
          "predicted": 7,
          "variable": "7"
         },
         {
          "actual": 7,
          "bins": "(0.2, 0.3]",
          "count": 1,
          "predicted": 8,
          "variable": "7"
         },
         {
          "actual": 7,
          "bins": "(0.2, 0.3]",
          "count": 3,
          "predicted": 9,
          "variable": "7"
         },
         {
          "actual": 8,
          "bins": "(0.2, 0.3]",
          "count": 2,
          "predicted": 0,
          "variable": "8"
         },
         {
          "actual": 8,
          "bins": "(0.2, 0.3]",
          "count": 4,
          "predicted": 2,
          "variable": "8"
         },
         {
          "actual": 8,
          "bins": "(0.2, 0.3]",
          "count": 9,
          "predicted": 3,
          "variable": "8"
         },
         {
          "actual": 8,
          "bins": "(0.2, 0.3]",
          "count": 1,
          "predicted": 4,
          "variable": "8"
         },
         {
          "actual": 8,
          "bins": "(0.2, 0.3]",
          "count": 2,
          "predicted": 5,
          "variable": "8"
         },
         {
          "actual": 8,
          "bins": "(0.2, 0.3]",
          "count": 5,
          "predicted": 6,
          "variable": "8"
         },
         {
          "actual": 8,
          "bins": "(0.2, 0.3]",
          "count": 2,
          "predicted": 7,
          "variable": "8"
         },
         {
          "actual": 8,
          "bins": "(0.2, 0.3]",
          "count": 18,
          "predicted": 8,
          "variable": "8"
         },
         {
          "actual": 8,
          "bins": "(0.2, 0.3]",
          "count": 4,
          "predicted": 9,
          "variable": "8"
         },
         {
          "actual": 9,
          "bins": "(0.2, 0.3]",
          "count": 3,
          "predicted": 0,
          "variable": "9"
         },
         {
          "actual": 9,
          "bins": "(0.2, 0.3]",
          "count": 1,
          "predicted": 1,
          "variable": "9"
         },
         {
          "actual": 9,
          "bins": "(0.2, 0.3]",
          "count": 3,
          "predicted": 3,
          "variable": "9"
         },
         {
          "actual": 9,
          "bins": "(0.2, 0.3]",
          "count": 7,
          "predicted": 4,
          "variable": "9"
         },
         {
          "actual": 9,
          "bins": "(0.2, 0.3]",
          "count": 2,
          "predicted": 5,
          "variable": "9"
         },
         {
          "actual": 9,
          "bins": "(0.2, 0.3]",
          "count": 4,
          "predicted": 7,
          "variable": "9"
         },
         {
          "actual": 9,
          "bins": "(0.2, 0.3]",
          "count": 3,
          "predicted": 8,
          "variable": "9"
         },
         {
          "actual": 9,
          "bins": "(0.2, 0.3]",
          "count": 5,
          "predicted": 9,
          "variable": "9"
         },
         {
          "actual": 0,
          "bins": "(0.3, 0.4]",
          "count": 8,
          "predicted": 0,
          "variable": "0"
         },
         {
          "actual": 1,
          "bins": "(0.3, 0.4]",
          "count": 9,
          "predicted": 1,
          "variable": "1"
         },
         {
          "actual": 1,
          "bins": "(0.3, 0.4]",
          "count": 1,
          "predicted": 3,
          "variable": "1"
         },
         {
          "actual": 1,
          "bins": "(0.3, 0.4]",
          "count": 1,
          "predicted": 8,
          "variable": "1"
         },
         {
          "actual": 2,
          "bins": "(0.3, 0.4]",
          "count": 2,
          "predicted": 0,
          "variable": "2"
         },
         {
          "actual": 2,
          "bins": "(0.3, 0.4]",
          "count": 35,
          "predicted": 2,
          "variable": "2"
         },
         {
          "actual": 2,
          "bins": "(0.3, 0.4]",
          "count": 1,
          "predicted": 3,
          "variable": "2"
         },
         {
          "actual": 2,
          "bins": "(0.3, 0.4]",
          "count": 1,
          "predicted": 6,
          "variable": "2"
         },
         {
          "actual": 2,
          "bins": "(0.3, 0.4]",
          "count": 1,
          "predicted": 7,
          "variable": "2"
         },
         {
          "actual": 2,
          "bins": "(0.3, 0.4]",
          "count": 1,
          "predicted": 8,
          "variable": "2"
         },
         {
          "actual": 3,
          "bins": "(0.3, 0.4]",
          "count": 1,
          "predicted": 2,
          "variable": "3"
         },
         {
          "actual": 3,
          "bins": "(0.3, 0.4]",
          "count": 41,
          "predicted": 3,
          "variable": "3"
         },
         {
          "actual": 3,
          "bins": "(0.3, 0.4]",
          "count": 4,
          "predicted": 5,
          "variable": "3"
         },
         {
          "actual": 3,
          "bins": "(0.3, 0.4]",
          "count": 2,
          "predicted": 8,
          "variable": "3"
         },
         {
          "actual": 4,
          "bins": "(0.3, 0.4]",
          "count": 1,
          "predicted": 2,
          "variable": "4"
         },
         {
          "actual": 4,
          "bins": "(0.3, 0.4]",
          "count": 37,
          "predicted": 4,
          "variable": "4"
         },
         {
          "actual": 4,
          "bins": "(0.3, 0.4]",
          "count": 8,
          "predicted": 9,
          "variable": "4"
         },
         {
          "actual": 5,
          "bins": "(0.3, 0.4]",
          "count": 1,
          "predicted": 2,
          "variable": "5"
         },
         {
          "actual": 5,
          "bins": "(0.3, 0.4]",
          "count": 11,
          "predicted": 3,
          "variable": "5"
         },
         {
          "actual": 5,
          "bins": "(0.3, 0.4]",
          "count": 1,
          "predicted": 4,
          "variable": "5"
         },
         {
          "actual": 5,
          "bins": "(0.3, 0.4]",
          "count": 40,
          "predicted": 5,
          "variable": "5"
         },
         {
          "actual": 5,
          "bins": "(0.3, 0.4]",
          "count": 1,
          "predicted": 9,
          "variable": "5"
         },
         {
          "actual": 6,
          "bins": "(0.3, 0.4]",
          "count": 2,
          "predicted": 0,
          "variable": "6"
         },
         {
          "actual": 6,
          "bins": "(0.3, 0.4]",
          "count": 1,
          "predicted": 1,
          "variable": "6"
         },
         {
          "actual": 6,
          "bins": "(0.3, 0.4]",
          "count": 2,
          "predicted": 4,
          "variable": "6"
         },
         {
          "actual": 6,
          "bins": "(0.3, 0.4]",
          "count": 3,
          "predicted": 5,
          "variable": "6"
         },
         {
          "actual": 6,
          "bins": "(0.3, 0.4]",
          "count": 19,
          "predicted": 6,
          "variable": "6"
         },
         {
          "actual": 7,
          "bins": "(0.3, 0.4]",
          "count": 1,
          "predicted": 2,
          "variable": "7"
         },
         {
          "actual": 7,
          "bins": "(0.3, 0.4]",
          "count": 1,
          "predicted": 3,
          "variable": "7"
         },
         {
          "actual": 7,
          "bins": "(0.3, 0.4]",
          "count": 2,
          "predicted": 4,
          "variable": "7"
         },
         {
          "actual": 7,
          "bins": "(0.3, 0.4]",
          "count": 24,
          "predicted": 7,
          "variable": "7"
         },
         {
          "actual": 7,
          "bins": "(0.3, 0.4]",
          "count": 3,
          "predicted": 9,
          "variable": "7"
         },
         {
          "actual": 8,
          "bins": "(0.3, 0.4]",
          "count": 1,
          "predicted": 2,
          "variable": "8"
         },
         {
          "actual": 8,
          "bins": "(0.3, 0.4]",
          "count": 3,
          "predicted": 3,
          "variable": "8"
         },
         {
          "actual": 8,
          "bins": "(0.3, 0.4]",
          "count": 3,
          "predicted": 5,
          "variable": "8"
         },
         {
          "actual": 8,
          "bins": "(0.3, 0.4]",
          "count": 1,
          "predicted": 6,
          "variable": "8"
         },
         {
          "actual": 8,
          "bins": "(0.3, 0.4]",
          "count": 45,
          "predicted": 8,
          "variable": "8"
         },
         {
          "actual": 9,
          "bins": "(0.3, 0.4]",
          "count": 6,
          "predicted": 4,
          "variable": "9"
         },
         {
          "actual": 9,
          "bins": "(0.3, 0.4]",
          "count": 2,
          "predicted": 5,
          "variable": "9"
         },
         {
          "actual": 9,
          "bins": "(0.3, 0.4]",
          "count": 2,
          "predicted": 7,
          "variable": "9"
         },
         {
          "actual": 9,
          "bins": "(0.3, 0.4]",
          "count": 1,
          "predicted": 8,
          "variable": "9"
         },
         {
          "actual": 9,
          "bins": "(0.3, 0.4]",
          "count": 27,
          "predicted": 9,
          "variable": "9"
         },
         {
          "actual": 0,
          "bins": "(0.4, 0.5]",
          "count": 12,
          "predicted": 0,
          "variable": "0"
         },
         {
          "actual": 1,
          "bins": "(0.4, 0.5]",
          "count": 8,
          "predicted": 1,
          "variable": "1"
         },
         {
          "actual": 2,
          "bins": "(0.4, 0.5]",
          "count": 51,
          "predicted": 2,
          "variable": "2"
         },
         {
          "actual": 3,
          "bins": "(0.4, 0.5]",
          "count": 63,
          "predicted": 3,
          "variable": "3"
         },
         {
          "actual": 4,
          "bins": "(0.4, 0.5]",
          "count": 43,
          "predicted": 4,
          "variable": "4"
         },
         {
          "actual": 5,
          "bins": "(0.4, 0.5]",
          "count": 3,
          "predicted": 3,
          "variable": "5"
         },
         {
          "actual": 5,
          "bins": "(0.4, 0.5]",
          "count": 58,
          "predicted": 5,
          "variable": "5"
         },
         {
          "actual": 6,
          "bins": "(0.4, 0.5]",
          "count": 1,
          "predicted": 0,
          "variable": "6"
         },
         {
          "actual": 6,
          "bins": "(0.4, 0.5]",
          "count": 1,
          "predicted": 4,
          "variable": "6"
         },
         {
          "actual": 6,
          "bins": "(0.4, 0.5]",
          "count": 32,
          "predicted": 6,
          "variable": "6"
         },
         {
          "actual": 7,
          "bins": "(0.4, 0.5]",
          "count": 39,
          "predicted": 7,
          "variable": "7"
         },
         {
          "actual": 8,
          "bins": "(0.4, 0.5]",
          "count": 60,
          "predicted": 8,
          "variable": "8"
         },
         {
          "actual": 9,
          "bins": "(0.4, 0.5]",
          "count": 2,
          "predicted": 4,
          "variable": "9"
         },
         {
          "actual": 9,
          "bins": "(0.4, 0.5]",
          "count": 42,
          "predicted": 9,
          "variable": "9"
         },
         {
          "actual": 0,
          "bins": "(0.5, 0.6]",
          "count": 28,
          "predicted": 0,
          "variable": "0"
         },
         {
          "actual": 1,
          "bins": "(0.5, 0.6]",
          "count": 8,
          "predicted": 1,
          "variable": "1"
         },
         {
          "actual": 2,
          "bins": "(0.5, 0.6]",
          "count": 81,
          "predicted": 2,
          "variable": "2"
         },
         {
          "actual": 3,
          "bins": "(0.5, 0.6]",
          "count": 83,
          "predicted": 3,
          "variable": "3"
         },
         {
          "actual": 4,
          "bins": "(0.5, 0.6]",
          "count": 86,
          "predicted": 4,
          "variable": "4"
         },
         {
          "actual": 5,
          "bins": "(0.5, 0.6]",
          "count": 84,
          "predicted": 5,
          "variable": "5"
         },
         {
          "actual": 6,
          "bins": "(0.5, 0.6]",
          "count": 53,
          "predicted": 6,
          "variable": "6"
         },
         {
          "actual": 7,
          "bins": "(0.5, 0.6]",
          "count": 52,
          "predicted": 7,
          "variable": "7"
         },
         {
          "actual": 8,
          "bins": "(0.5, 0.6]",
          "count": 85,
          "predicted": 8,
          "variable": "8"
         },
         {
          "actual": 9,
          "bins": "(0.5, 0.6]",
          "count": 65,
          "predicted": 9,
          "variable": "9"
         },
         {
          "actual": 0,
          "bins": "(0.6, 0.7]",
          "count": 61,
          "predicted": 0,
          "variable": "0"
         },
         {
          "actual": 1,
          "bins": "(0.6, 0.7]",
          "count": 23,
          "predicted": 1,
          "variable": "1"
         },
         {
          "actual": 2,
          "bins": "(0.6, 0.7]",
          "count": 103,
          "predicted": 2,
          "variable": "2"
         },
         {
          "actual": 3,
          "bins": "(0.6, 0.7]",
          "count": 111,
          "predicted": 3,
          "variable": "3"
         },
         {
          "actual": 4,
          "bins": "(0.6, 0.7]",
          "count": 94,
          "predicted": 4,
          "variable": "4"
         },
         {
          "actual": 5,
          "bins": "(0.6, 0.7]",
          "count": 112,
          "predicted": 5,
          "variable": "5"
         },
         {
          "actual": 6,
          "bins": "(0.6, 0.7]",
          "count": 62,
          "predicted": 6,
          "variable": "6"
         },
         {
          "actual": 7,
          "bins": "(0.6, 0.7]",
          "count": 72,
          "predicted": 7,
          "variable": "7"
         },
         {
          "actual": 8,
          "bins": "(0.6, 0.7]",
          "count": 145,
          "predicted": 8,
          "variable": "8"
         },
         {
          "actual": 9,
          "bins": "(0.6, 0.7]",
          "count": 88,
          "predicted": 9,
          "variable": "9"
         },
         {
          "actual": 0,
          "bins": "(0.7, 0.8]",
          "count": 80,
          "predicted": 0,
          "variable": "0"
         },
         {
          "actual": 1,
          "bins": "(0.7, 0.8]",
          "count": 49,
          "predicted": 1,
          "variable": "1"
         },
         {
          "actual": 2,
          "bins": "(0.7, 0.8]",
          "count": 137,
          "predicted": 2,
          "variable": "2"
         },
         {
          "actual": 3,
          "bins": "(0.7, 0.8]",
          "count": 160,
          "predicted": 3,
          "variable": "3"
         },
         {
          "actual": 4,
          "bins": "(0.7, 0.8]",
          "count": 113,
          "predicted": 4,
          "variable": "4"
         },
         {
          "actual": 5,
          "bins": "(0.7, 0.8]",
          "count": 143,
          "predicted": 5,
          "variable": "5"
         },
         {
          "actual": 6,
          "bins": "(0.7, 0.8]",
          "count": 112,
          "predicted": 6,
          "variable": "6"
         },
         {
          "actual": 7,
          "bins": "(0.7, 0.8]",
          "count": 89,
          "predicted": 7,
          "variable": "7"
         },
         {
          "actual": 8,
          "bins": "(0.7, 0.8]",
          "count": 158,
          "predicted": 8,
          "variable": "8"
         },
         {
          "actual": 9,
          "bins": "(0.7, 0.8]",
          "count": 145,
          "predicted": 9,
          "variable": "9"
         },
         {
          "actual": 0,
          "bins": "(0.8, 0.9]",
          "count": 197,
          "predicted": 0,
          "variable": "0"
         },
         {
          "actual": 1,
          "bins": "(0.8, 0.9]",
          "count": 110,
          "predicted": 1,
          "variable": "1"
         },
         {
          "actual": 2,
          "bins": "(0.8, 0.9]",
          "count": 205,
          "predicted": 2,
          "variable": "2"
         },
         {
          "actual": 3,
          "bins": "(0.8, 0.9]",
          "count": 200,
          "predicted": 3,
          "variable": "3"
         },
         {
          "actual": 4,
          "bins": "(0.8, 0.9]",
          "count": 236,
          "predicted": 4,
          "variable": "4"
         },
         {
          "actual": 5,
          "bins": "(0.8, 0.9]",
          "count": 198,
          "predicted": 5,
          "variable": "5"
         },
         {
          "actual": 6,
          "bins": "(0.8, 0.9]",
          "count": 205,
          "predicted": 6,
          "variable": "6"
         },
         {
          "actual": 7,
          "bins": "(0.8, 0.9]",
          "count": 140,
          "predicted": 7,
          "variable": "7"
         },
         {
          "actual": 8,
          "bins": "(0.8, 0.9]",
          "count": 195,
          "predicted": 8,
          "variable": "8"
         },
         {
          "actual": 9,
          "bins": "(0.8, 0.9]",
          "count": 233,
          "predicted": 9,
          "variable": "9"
         },
         {
          "actual": 0,
          "bins": "(0.9, 1.0]",
          "count": 577,
          "predicted": 0,
          "variable": "0"
         },
         {
          "actual": 1,
          "bins": "(0.9, 1.0]",
          "count": 913,
          "predicted": 1,
          "variable": "1"
         },
         {
          "actual": 2,
          "bins": "(0.9, 1.0]",
          "count": 346,
          "predicted": 2,
          "variable": "2"
         },
         {
          "actual": 3,
          "bins": "(0.9, 1.0]",
          "count": 271,
          "predicted": 3,
          "variable": "3"
         },
         {
          "actual": 4,
          "bins": "(0.9, 1.0]",
          "count": 316,
          "predicted": 4,
          "variable": "4"
         },
         {
          "actual": 5,
          "bins": "(0.9, 1.0]",
          "count": 171,
          "predicted": 5,
          "variable": "5"
         },
         {
          "actual": 6,
          "bins": "(0.9, 1.0]",
          "count": 432,
          "predicted": 6,
          "variable": "6"
         },
         {
          "actual": 7,
          "bins": "(0.9, 1.0]",
          "count": 553,
          "predicted": 7,
          "variable": "7"
         },
         {
          "actual": 8,
          "bins": "(0.9, 1.0]",
          "count": 182,
          "predicted": 8,
          "variable": "8"
         },
         {
          "actual": 9,
          "bins": "(0.9, 1.0]",
          "count": 322,
          "predicted": 9,
          "variable": "9"
         }
        ]
       },
       "encoding": {
        "color": {
         "field": "predicted",
         "type": "nominal"
        },
        "column": {
         "field": "actual",
         "title": "",
         "type": "quantitative"
        },
        "tooltip": [
         {
          "field": "count",
          "type": "quantitative"
         },
         {
          "field": "predicted",
          "type": "quantitative"
         }
        ],
        "x": {
         "axis": {
          "labels": false,
          "ticks": false,
          "title": ""
         },
         "field": "count",
         "type": "quantitative"
        },
        "y": {
         "field": "bins",
         "sort": {
          "field": "bins",
          "op": "sum",
          "order": "descending"
         },
         "title": "Prediction Score",
         "type": "nominal"
        }
       },
       "mark": "bar",
       "title": "",
       "width": 100
      },
      "image/png": "[encoded data removed]",
      "text/plain": [
       "<VegaLite 2 object>\n",
       "\n",
       "If you see this message, it means the renderer has not been properly enabled\n",
       "for the frontend that you are using. For more information, see\n",
       "https://altair-viz.github.io/user_guide/troubleshooting.html\n"
      ]
     },
     "execution_count": 8,
     "metadata": {},
     "output_type": "execute_result"
    }
   ],
   "source": [
    "squares(y_prob, actual, y_classes)"
   ]
  },
  {
   "cell_type": "markdown",
   "metadata": {},
   "source": [
    "# Ivis"
   ]
  },
  {
   "cell_type": "code",
   "execution_count": 5,
   "metadata": {},
   "outputs": [],
   "source": [
    "import numpy as np\n",
    "from ivis import Ivis\n",
    "\n",
    "from keras.models import Model\n",
    "from keras.layers import Input, Dense, AlphaDropout\n",
    "from sklearn.decomposition import PCA\n",
    "\n",
    "def create_network(input_shape):\n",
    "    inputs = Input(shape=input_shape)\n",
    "    x = Dense(500, activation='selu', kernel_initializer='lecun_normal')(inputs)\n",
    "    x = AlphaDropout(0.1)(x)\n",
    "    x = Dense(500, activation='selu', kernel_initializer='lecun_normal')(inputs)\n",
    "    x = AlphaDropout(0.1)(x)\n",
    "    x = Dense(2000, activation='selu', kernel_initializer='lecun_normal')(inputs)\n",
    "    return Model(inputs, x)"
   ]
  },
  {
   "cell_type": "code",
   "execution_count": 6,
   "metadata": {},
   "outputs": [],
   "source": [
    "x_ivis = PCA(n_components=50).fit_transform(x_test)"
   ]
  },
  {
   "cell_type": "code",
   "execution_count": 7,
   "metadata": {},
   "outputs": [
    {
     "name": "stderr",
     "output_type": "stream",
     "text": [
      "100%|██████████| 10000/10000 [00:00<00:00, 111534.62it/s]"
     ]
    },
    {
     "name": "stdout",
     "output_type": "stream",
     "text": [
      "Building KNN index\n"
     ]
    },
    {
     "name": "stderr",
     "output_type": "stream",
     "text": [
      "\n"
     ]
    },
    {
     "name": "stdout",
     "output_type": "stream",
     "text": [
      "Extracting KNN from index\n"
     ]
    },
    {
     "name": "stderr",
     "output_type": "stream",
     "text": [
      "100%|██████████| 10000/10000 [00:03<00:00, 3128.99it/s]\n"
     ]
    },
    {
     "name": "stdout",
     "output_type": "stream",
     "text": [
      "Training neural network\n",
      "Epoch 1/5\n",
      "78/78 [==============================] - 2s 24ms/step - loss: 0.5056\n",
      "Epoch 2/5\n",
      "78/78 [==============================] - 1s 19ms/step - loss: 0.4230\n",
      "Epoch 3/5\n",
      "78/78 [==============================] - 1s 19ms/step - loss: 0.4249\n",
      "Epoch 4/5\n",
      "78/78 [==============================] - 1s 19ms/step - loss: 0.4104\n",
      "Epoch 5/5\n",
      "78/78 [==============================] - 1s 19ms/step - loss: 0.4026\n"
     ]
    },
    {
     "data": {
      "text/plain": [
       "Ivis(annoy_index_path='annoy.index', batch_size=128, distance='pn',\n",
       "   embedding_dims=2, epochs=5, k=150, margin=1, model=None,\n",
       "   n_epochs_without_progress=50, ntrees=50, precompute=True, search_k=-1)"
      ]
     },
     "execution_count": 7,
     "metadata": {},
     "output_type": "execute_result"
    }
   ],
   "source": [
    "ivis = Ivis(model = create_network((x_ivis.shape[1], )), epochs=5)\n",
    "ivis.fit(x_ivis)"
   ]
  },
  {
   "cell_type": "code",
   "execution_count": 8,
   "metadata": {},
   "outputs": [],
   "source": [
    "embeddings = ivis.transform(x_ivis)\n",
    "y_prob = model.predict(x_test)"
   ]
  },
  {
   "cell_type": "code",
   "execution_count": 9,
   "metadata": {},
   "outputs": [],
   "source": [
    "xy_df = pd.DataFrame({'dim1': embeddings[:,0], 'dim2': embeddings[:,1], 'class': actual})\n",
    "prob_df = pd.DataFrame(y_prob)\n",
    "prob_df.columns.astype(str)\n",
    "\n",
    "xy_df['id'] = xy_df.index.values\n",
    "prob_df['id'] = prob_df.index.values\n",
    "prob_df = prob_df.melt(id_vars=['id'])"
   ]
  },
  {
   "cell_type": "code",
   "execution_count": 10,
   "metadata": {},
   "outputs": [
    {
     "data": {
      "text/html": [
       "<div>\n",
       "<style scoped>\n",
       "    .dataframe tbody tr th:only-of-type {\n",
       "        vertical-align: middle;\n",
       "    }\n",
       "\n",
       "    .dataframe tbody tr th {\n",
       "        vertical-align: top;\n",
       "    }\n",
       "\n",
       "    .dataframe thead th {\n",
       "        text-align: right;\n",
       "    }\n",
       "</style>\n",
       "<table border=\"1\" class=\"dataframe\">\n",
       "  <thead>\n",
       "    <tr style=\"text-align: right;\">\n",
       "      <th></th>\n",
       "      <th>id</th>\n",
       "      <th>variable</th>\n",
       "      <th>value</th>\n",
       "    </tr>\n",
       "  </thead>\n",
       "  <tbody>\n",
       "    <tr>\n",
       "      <th>0</th>\n",
       "      <td>0</td>\n",
       "      <td>0</td>\n",
       "      <td>2.049682e-07</td>\n",
       "    </tr>\n",
       "    <tr>\n",
       "      <th>1</th>\n",
       "      <td>1</td>\n",
       "      <td>0</td>\n",
       "      <td>5.801684e-08</td>\n",
       "    </tr>\n",
       "    <tr>\n",
       "      <th>2</th>\n",
       "      <td>2</td>\n",
       "      <td>0</td>\n",
       "      <td>1.151588e-06</td>\n",
       "    </tr>\n",
       "    <tr>\n",
       "      <th>3</th>\n",
       "      <td>3</td>\n",
       "      <td>0</td>\n",
       "      <td>9.967169e-01</td>\n",
       "    </tr>\n",
       "    <tr>\n",
       "      <th>4</th>\n",
       "      <td>4</td>\n",
       "      <td>0</td>\n",
       "      <td>2.806258e-06</td>\n",
       "    </tr>\n",
       "  </tbody>\n",
       "</table>\n",
       "</div>"
      ],
      "text/plain": [
       "   id variable         value\n",
       "0   0        0  2.049682e-07\n",
       "1   1        0  5.801684e-08\n",
       "2   2        0  1.151588e-06\n",
       "3   3        0  9.967169e-01\n",
       "4   4        0  2.806258e-06"
      ]
     },
     "execution_count": 10,
     "metadata": {},
     "output_type": "execute_result"
    }
   ],
   "source": [
    "prob_df.head()"
   ]
  },
  {
   "cell_type": "code",
   "execution_count": 13,
   "metadata": {},
   "outputs": [
    {
     "data": {
      "application/vnd.vegalite.v2+json": {
       "$schema": "https://vega.github.io/schema/vega-lite/v2.6.0.json",
       "config": {
        "view": {
         "height": 300,
         "width": 400
        }
       },
       "hconcat": [
        {
         "data": {
          "format": {
           "type": "csv"
          },
          "url": "altair-data-fc57f9edf43cc8ee406d311a897eecc4.csv"
         },
         "encoding": {
          "color": {
           "field": "class",
           "type": "ordinal"
          },
          "x": {
           "field": "dim1",
           "type": "quantitative"
          },
          "y": {
           "field": "dim2",
           "type": "quantitative"
          }
         },
         "mark": "circle",
         "selection": {
          "selector003": {
           "empty": "all",
           "fields": [
            "id"
           ],
           "on": "click",
           "resolve": "global",
           "type": "single"
          },
          "selector004": {
           "bind": "scales",
           "encodings": [
            "x",
            "y"
           ],
           "mark": {
            "fill": "#333",
            "fillOpacity": 0.125,
            "stroke": "white"
           },
           "on": "[mousedown, window:mouseup] > window:mousemove!",
           "resolve": "global",
           "translate": "[mousedown, window:mouseup] > window:mousemove!",
           "type": "interval",
           "zoom": "wheel!"
          }
         }
        },
        {
         "data": {
          "format": {
           "type": "csv"
          },
          "url": "altair-data-65ddef3b2e7806732bdc833391412ed3.csv"
         },
         "encoding": {
          "x": {
           "field": "variable",
           "type": "ordinal"
          },
          "y": {
           "field": "value",
           "type": "quantitative"
          }
         },
         "mark": "line",
         "transform": [
          {
           "filter": {
            "selection": "selector003"
           }
          }
         ]
        }
       ]
      },
      "image/png": "[encoded data removed]",
      "text/plain": [
       "<VegaLite 2 object>\n",
       "\n",
       "If you see this message, it means the renderer has not been properly enabled\n",
       "for the frontend that you are using. For more information, see\n",
       "https://altair-viz.github.io/user_guide/troubleshooting.html\n"
      ]
     },
     "execution_count": 13,
     "metadata": {},
     "output_type": "execute_result"
    }
   ],
   "source": [
    "selector = alt.selection_single(empty='all', fields=['id'])\n",
    "alt.data_transformers.enable('csv')\n",
    "\n",
    "points = alt.Chart(xy_df).mark_circle().encode(\n",
    "    x='dim1',\n",
    "    y='dim2',\n",
    "    color='class:O'\n",
    ").add_selection(selector).interactive()\n",
    "\n",
    "series = alt.Chart(prob_df).mark_line().encode(\n",
    "    x='variable:O',\n",
    "    y='value',    \n",
    ").transform_filter(\n",
    "    selector\n",
    ")\n",
    "\n",
    "points | series"
   ]
  },
  {
   "cell_type": "code",
   "execution_count": null,
   "metadata": {},
   "outputs": [],
   "source": []
  }
 ],
 "metadata": {
  "kernelspec": {
   "display_name": "Python 3",
   "language": "python",
   "name": "python3"
  },
  "language_info": {
   "codemirror_mode": {
    "name": "ipython",
    "version": 3
   },
   "file_extension": ".py",
   "mimetype": "text/x-python",
   "name": "python",
   "nbconvert_exporter": "python",
   "pygments_lexer": "ipython3",
   "version": "3.6.7"
  }
 },
 "nbformat": 4,
 "nbformat_minor": 2
}
